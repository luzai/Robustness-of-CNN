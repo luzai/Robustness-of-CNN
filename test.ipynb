{
 "cells": [
  {
   "cell_type": "code",
   "execution_count": 3,
   "metadata": {
    "collapsed": false
   },
   "outputs": [],
   "source": [
    "import pandas as pd\n",
    "import numpy as np\n",
    "import matplotlib.pyplot as plt\n",
    "# import seaborn as sns\n",
    "import sys\n",
    "import scipy.linalg\n",
    "import cv2\n",
    "sys.path.insert(0,'/home/luzai/App/caffe/python/')\n",
    "sys.path.insert(0,'/home/xlwang/App/caffe/python')\n",
    "import caffe\n",
    "# %matplotlib inline"
   ]
  },
  {
   "cell_type": "code",
   "execution_count": 4,
   "metadata": {
    "collapsed": false
   },
   "outputs": [],
   "source": [
    "caffe.set_device(0)\n",
    "caffe.set_mode_gpu()"
   ]
  },
  {
   "cell_type": "code",
   "execution_count": null,
   "metadata": {
    "collapsed": true
   },
   "outputs": [],
   "source": [
    ""
   ]
  },
  {
   "cell_type": "code",
   "execution_count": 3,
   "metadata": {
    "collapsed": true
   },
   "outputs": [],
   "source": [
    "solver=None\n",
    "solver=caffe.get_solver('cifar/cifar10_quick_solver.prototxt')\n",
    "\n",
    "npnt=4 #TODO --> 8 \n",
    "natpt=1 #TODO --> 5\n",
    "noisy_frac_arr= [ 0,   0.2 ,   0.4,   0.6]\n",
    "acc_arr=np.zeros((npnt,natpt))"
   ]
  },
  {
   "cell_type": "code",
   "execution_count": 4,
   "metadata": {
    "collapsed": false
   },
   "outputs": [],
   "source": [
    "for i in range(natpt):\n",
    "    del solver\n",
    "    solver=None\n",
    "    solver=caffe.get_solver('cifar/cifar10_quick_solver.prototxt')\n",
    "    solver.solve()\n",
    "#     solver.step(1)\n",
    "    acc_arr[0,i]=solver.test_nets[0].blobs['accuracy'].data"
   ]
  },
  {
   "cell_type": "code",
   "execution_count": 5,
   "metadata": {
    "collapsed": false
   },
   "outputs": [
    {
     "name": "stdout",
     "output_type": "stream",
     "text": [
      "cifar/cifar10_quick_solver_0.2.prototxt\n",
      "cifar/cifar10_quick_solver_0.4.prototxt\n",
      "cifar/cifar10_quick_solver_0.6.prototxt\n",
      "[(0, array([ 0.09])), (0.2, array([ 0.1])), (0.4, array([ 0.09])), (0.6, array([ 0.16500001]))]\n"
     ]
    }
   ],
   "source": [
    "for idx,noisy_frac in enumerate(noisy_frac_arr[1:]):\n",
    "    for idx_atpt in range(natpt):\n",
    "        del solver\n",
    "        solver=None\n",
    "        filename='cifar/cifar10_quick_solver_'+str(noisy_frac_arr[idx+1])+'.prototxt'\n",
    "        print filename\n",
    "        \n",
    "        solver=caffe.get_solver(filename)\n",
    "        solver.solve()\n",
    "#         solver.step(1)\n",
    "        acc_arr[idx+1,idx_atpt]=solver.test_nets[0].blobs['accuracy'].data\n",
    "        # print '\\n',solver.net.blobs['label'].data\n",
    "        \n",
    "print zip( noisy_frac_arr, acc_arr) \n",
    "np.save('./output/acc_arr',acc_arr)"
   ]
  },
  {
   "cell_type": "code",
   "execution_count": 6,
   "metadata": {
    "collapsed": false
   },
   "outputs": [
    {
     "data": {
      "text/plain": [
       "array([[ 0.09      ],\n",
       "       [ 0.1       ],\n",
       "       [ 0.09      ],\n",
       "       [ 0.16500001]])"
      ]
     },
     "execution_count": 6,
     "metadata": {},
     "output_type": "execute_result"
    }
   ],
   "source": [
    "acc_arr"
   ]
  },
  {
   "cell_type": "code",
   "execution_count": 7,
   "metadata": {
    "collapsed": false
   },
   "outputs": [
    {
     "name": "stdout",
     "output_type": "stream",
     "text": [
      "acc_arr.npy  \u001b[0m\u001b[01;34mcifar\u001b[0m/     \u001b[01;34mlegacy\u001b[0m/       \u001b[01;34mmnist\u001b[0m/   question.ipynb  test.ipynb\r\n",
      "\u001b[01;34mcaffe-test\u001b[0m/  \u001b[01;34mexternal\u001b[0m/  mCaffe.ipynb  \u001b[01;34moutput\u001b[0m/  \u001b[01;34mres\u001b[0m/            test.py\r\n"
     ]
    }
   ],
   "source": [
    "ls"
   ]
  },
  {
   "cell_type": "code",
   "execution_count": 6,
   "metadata": {
    "collapsed": false
   },
   "outputs": [
    {
     "name": "stdout",
     "output_type": "stream",
     "text": [
      "[[ 0.76499999]\n",
      " [ 0.46000001]\n",
      " [ 0.41499999]\n",
      " [ 0.41      ]]\n"
     ]
    }
   ],
   "source": [
    "acc_arr=np.load(\"./acc_arr.npy\")\n",
    "print acc_arr"
   ]
  },
  {
   "cell_type": "code",
   "execution_count": 4,
   "metadata": {
    "collapsed": false
   },
   "outputs": [
    {
     "data": {
      "image/png": "[encoded data removed]",
      "text/plain": [
       "<matplotlib.figure.Figure at 0x7f696ece3f90>"
      ]
     },
     "metadata": {},
     "output_type": "display_data"
    }
   ],
   "source": [
    "%matplotlib inline\n",
    "noisy_frac_arr= [ 0,   0.2 ,   0.4,   0.6]\n",
    "acc_arr=np.load('./acc_arr.npy')\n",
    "mu=acc_arr.mean(1)\n",
    "sigma=acc_arr.std(1)\n",
    "\n",
    "fig,ax=plt.subplots(1)\n",
    "ax.plot(noisy_frac_arr,mu,lw=2,label='softmax',color='yellow')\n",
    "ax.fill_between(noisy_frac_arr,mu+sigma,mu-sigma,facecolor='yellow',alpha=0.5)\n",
    "ax.set_title('$M_n$ v.s. $p_n$')\n",
    "ax.legend(loc='upper right')\n",
    "ax.grid()"
   ]
  },
  {
   "cell_type": "code",
   "execution_count": null,
   "metadata": {
    "collapsed": true
   },
   "outputs": [],
   "source": [
    ""
   ]
  }
 ],
 "metadata": {
  "kernelspec": {
   "display_name": "Python 2",
   "language": "python",
   "name": "python2"
  },
  "language_info": {
   "codemirror_mode": {
    "name": "ipython",
    "version": 2.0
   },
   "file_extension": ".py",
   "mimetype": "text/x-python",
   "name": "python",
   "nbconvert_exporter": "python",
   "pygments_lexer": "ipython2",
   "version": "2.7.12"
  }
 },
 "nbformat": 4,
 "nbformat_minor": 0
}