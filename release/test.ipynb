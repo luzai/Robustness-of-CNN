{
 "cells": [
  {
   "cell_type": "code",
   "execution_count": 1,
   "metadata": {
    "collapsed": false
   },
   "outputs": [],
   "source": [
    "import pandas as pd\n",
    "import numpy as np\n",
    "import matplotlib.pyplot as plt\n",
    "# import seaborn as sns\n",
    "import sys\n",
    "import scipy.linalg\n",
    "import cv2\n",
    "sys.path.insert(0,'/home/xlwang/App/caffe/python')\n",
    "import caffe\n",
    "%matplotlib inline"
   ]
  },
  {
   "cell_type": "code",
   "execution_count": 3,
   "metadata": {
    "collapsed": false
   },
   "outputs": [
    {
     "data": {
      "text/plain": [
       "<module 'caffe' from '/home/luzai/App/caffe/python/caffe/__init__.pyc'>"
      ]
     },
     "execution_count": 3,
     "metadata": {},
     "output_type": "execute_result"
    }
   ],
   "source": [
    ""
   ]
  },
  {
   "cell_type": "code",
   "execution_count": null,
   "metadata": {
    "collapsed": true
   },
   "outputs": [],
   "source": [
    ""
   ]
  },
  {
   "cell_type": "code",
   "execution_count": null,
   "metadata": {
    "collapsed": true
   },
   "outputs": [],
   "source": [
    "solver=None\n",
    "solver=caffe.get_solver('cifar/cifar10_quick_solver.prototxt')\n",
    "\n",
    "npnt=3 #TODO --> 8 \n",
    "natpt=2 #TODO --> 5\n",
    "noisy_frac_arr= [ 0, 0.1,  0.2 ]# np.linspace(0.0,0.7,npnt) # --> [ 0. ,  0.1,  0.2,  0.3,  0.4,  0.5,  0.6,  0.7]\n",
    "acc_arr=np.zeros((npnt,natpt))\n",
    "for i in range(natpt):\n",
    "    del solver\n",
    "    solver=None\n",
    "    solver=caffe.get_solver('cifar/cifar10_quick_solver.prototxt')\n",
    "    solver.solve()\n",
    "    acc_arr[0,i]=solver.test_nets[0].blobs['accuracy'].data\n",
    "    \n",
    "for idx,noisy_frac in enumerate(noisy_frac_arr[1:]):\n",
    "    for idx_atpt in range(natpt):\n",
    "        del solver\n",
    "        solver=None\n",
    "        solver=caffe.get_solver('cifar/cifar10_quick_solver_0.'+str(idx+1)+'.prototxt')\n",
    "        solver.solve()\n",
    "        acc_arr[idx+1,idx_atpt]=solver.test_nets[0].blobs['accuracy'].data\n",
    "        # print '\\n',solver.net.blobs['label'].data\n",
    "        \n",
    "print zip( noisy_frac_arr, acc_arr) \n",
    "np.save('./output/acc_arr',acc_arr)"
   ]
  }
 ],
 "metadata": {
  "kernelspec": {
   "display_name": "Python 2",
   "language": "python",
   "name": "python2"
  },
  "language_info": {
   "codemirror_mode": {
    "name": "ipython",
    "version": 2.0
   },
   "file_extension": ".py",
   "mimetype": "text/x-python",
   "name": "python",
   "nbconvert_exporter": "python",
   "pygments_lexer": "ipython2",
   "version": "2.7.12"
  }
 },
 "nbformat": 4,
 "nbformat_minor": 0
}